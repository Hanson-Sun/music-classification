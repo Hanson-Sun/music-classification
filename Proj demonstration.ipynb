{
 "cells": [
  {
   "cell_type": "code",
   "execution_count": 17,
   "id": "6e0d4251-ec90-487f-b3cb-cf5b0ec1424b",
   "metadata": {},
   "outputs": [
    {
     "name": "stderr",
     "output_type": "stream",
     "text": [
      "── \u001b[1mAttaching packages\u001b[22m ────────────────────────────────────── tidymodels 1.0.0 ──\n",
      "\n",
      "\u001b[32m✔\u001b[39m \u001b[34mbroom       \u001b[39m 1.0.0     \u001b[32m✔\u001b[39m \u001b[34mrsample     \u001b[39m 1.0.0\n",
      "\u001b[32m✔\u001b[39m \u001b[34mdials       \u001b[39m 1.0.0     \u001b[32m✔\u001b[39m \u001b[34mtune        \u001b[39m 1.0.0\n",
      "\u001b[32m✔\u001b[39m \u001b[34minfer       \u001b[39m 1.0.2     \u001b[32m✔\u001b[39m \u001b[34mworkflows   \u001b[39m 1.0.0\n",
      "\u001b[32m✔\u001b[39m \u001b[34mmodeldata   \u001b[39m 1.0.0     \u001b[32m✔\u001b[39m \u001b[34mworkflowsets\u001b[39m 1.0.0\n",
      "\u001b[32m✔\u001b[39m \u001b[34mparsnip     \u001b[39m 1.0.0     \u001b[32m✔\u001b[39m \u001b[34myardstick   \u001b[39m 1.0.0\n",
      "\u001b[32m✔\u001b[39m \u001b[34mrecipes     \u001b[39m 1.0.1     \n",
      "\n",
      "── \u001b[1mConflicts\u001b[22m ───────────────────────────────────────── tidymodels_conflicts() ──\n",
      "\u001b[31m✖\u001b[39m \u001b[34mscales\u001b[39m::\u001b[32mdiscard()\u001b[39m masks \u001b[34mpurrr\u001b[39m::discard()\n",
      "\u001b[31m✖\u001b[39m \u001b[34mdplyr\u001b[39m::\u001b[32mfilter()\u001b[39m   masks \u001b[34mstats\u001b[39m::filter()\n",
      "\u001b[31m✖\u001b[39m \u001b[34mrecipes\u001b[39m::\u001b[32mfixed()\u001b[39m  masks \u001b[34mstringr\u001b[39m::fixed()\n",
      "\u001b[31m✖\u001b[39m \u001b[34mdplyr\u001b[39m::\u001b[32mlag()\u001b[39m      masks \u001b[34mstats\u001b[39m::lag()\n",
      "\u001b[31m✖\u001b[39m \u001b[34myardstick\u001b[39m::\u001b[32mspec()\u001b[39m masks \u001b[34mreadr\u001b[39m::spec()\n",
      "\u001b[31m✖\u001b[39m \u001b[34mrecipes\u001b[39m::\u001b[32mstep()\u001b[39m   masks \u001b[34mstats\u001b[39m::step()\n",
      "\u001b[34m•\u001b[39m Use suppressPackageStartupMessages() to eliminate package startup messages\n",
      "\n"
     ]
    }
   ],
   "source": [
    "library(tidyverse)\n",
    "# Set the seed. Don't remove this!\n",
    "set.seed(4569) \n",
    "library(repr)\n",
    "library(tidymodels)\n",
    "options(repr.matrix.max.rows = 6)"
   ]
  },
  {
   "cell_type": "code",
   "execution_count": 6,
   "id": "eea2694a-c36b-4f8c-b058-b6fb7c4d1c05",
   "metadata": {},
   "outputs": [
    {
     "name": "stderr",
     "output_type": "stream",
     "text": [
      "\u001b[1mRows: \u001b[22m\u001b[34m1000\u001b[39m \u001b[1mColumns: \u001b[22m\u001b[34m60\u001b[39m\n",
      "\u001b[36m──\u001b[39m \u001b[1mColumn specification\u001b[22m \u001b[36m────────────────────────────────────────────────────────\u001b[39m\n",
      "\u001b[1mDelimiter:\u001b[22m \",\"\n",
      "\u001b[31mchr\u001b[39m  (2): filename, label\n",
      "\u001b[32mdbl\u001b[39m (58): length, chroma_stft_mean, chroma_stft_var, rms_mean, rms_var, spec...\n",
      "\n",
      "\u001b[36mℹ\u001b[39m Use `spec()` to retrieve the full column specification for this data.\n",
      "\u001b[36mℹ\u001b[39m Specify the column types or set `show_col_types = FALSE` to quiet this message.\n"
     ]
    },
    {
     "data": {
      "text/html": [
       "<table class=\"dataframe\">\n",
       "<caption>A tibble: 6 × 60</caption>\n",
       "<thead>\n",
       "\t<tr><th scope=col>filename</th><th scope=col>length</th><th scope=col>chroma_stft_mean</th><th scope=col>chroma_stft_var</th><th scope=col>rms_mean</th><th scope=col>rms_var</th><th scope=col>spectral_centroid_mean</th><th scope=col>spectral_centroid_var</th><th scope=col>spectral_bandwidth_mean</th><th scope=col>spectral_bandwidth_var</th><th scope=col>⋯</th><th scope=col>mfcc16_var</th><th scope=col>mfcc17_mean</th><th scope=col>mfcc17_var</th><th scope=col>mfcc18_mean</th><th scope=col>mfcc18_var</th><th scope=col>mfcc19_mean</th><th scope=col>mfcc19_var</th><th scope=col>mfcc20_mean</th><th scope=col>mfcc20_var</th><th scope=col>label</th></tr>\n",
       "\t<tr><th scope=col>&lt;chr&gt;</th><th scope=col>&lt;dbl&gt;</th><th scope=col>&lt;dbl&gt;</th><th scope=col>&lt;dbl&gt;</th><th scope=col>&lt;dbl&gt;</th><th scope=col>&lt;dbl&gt;</th><th scope=col>&lt;dbl&gt;</th><th scope=col>&lt;dbl&gt;</th><th scope=col>&lt;dbl&gt;</th><th scope=col>&lt;dbl&gt;</th><th scope=col>⋯</th><th scope=col>&lt;dbl&gt;</th><th scope=col>&lt;dbl&gt;</th><th scope=col>&lt;dbl&gt;</th><th scope=col>&lt;dbl&gt;</th><th scope=col>&lt;dbl&gt;</th><th scope=col>&lt;dbl&gt;</th><th scope=col>&lt;dbl&gt;</th><th scope=col>&lt;dbl&gt;</th><th scope=col>&lt;dbl&gt;</th><th scope=col>&lt;chr&gt;</th></tr>\n",
       "</thead>\n",
       "<tbody>\n",
       "\t<tr><td>blues.00000.wav</td><td>661794</td><td>0.3500881</td><td>0.08875657</td><td>0.13022792</td><td>0.002826696</td><td>1784.166</td><td> 129774.1</td><td>2002.449</td><td> 85882.76</td><td>⋯</td><td>52.42091</td><td>-1.6902146</td><td>36.52407</td><td>-0.4089792</td><td>41.59710</td><td>-2.3035226</td><td>55.06292</td><td>  1.2212907</td><td>46.93604</td><td>blues</td></tr>\n",
       "\t<tr><td>blues.00001.wav</td><td>661794</td><td>0.3409136</td><td>0.09498025</td><td>0.09594781</td><td>0.002372739</td><td>1530.177</td><td> 375850.1</td><td>2039.037</td><td>213843.76</td><td>⋯</td><td>55.35640</td><td>-0.7311246</td><td>60.31453</td><td> 0.2950729</td><td>48.12060</td><td>-0.2835180</td><td>51.10619</td><td>  0.5312165</td><td>45.78628</td><td>blues</td></tr>\n",
       "\t<tr><td>blues.00002.wav</td><td>661794</td><td>0.3636372</td><td>0.08527520</td><td>0.17557041</td><td>0.002745916</td><td>1552.812</td><td> 156467.6</td><td>1747.702</td><td> 76254.19</td><td>⋯</td><td>40.59877</td><td>-7.7290926</td><td>47.63943</td><td>-1.8164070</td><td>52.38214</td><td>-3.4397204</td><td>46.63966</td><td> -2.2312584</td><td>30.57302</td><td>blues</td></tr>\n",
       "\t<tr><td>blues.00003.wav</td><td>661794</td><td>0.4047847</td><td>0.09399904</td><td>0.14109300</td><td>0.006346346</td><td>1070.107</td><td> 184355.9</td><td>1596.413</td><td>166441.49</td><td>⋯</td><td>44.42775</td><td>-3.3195965</td><td>50.20667</td><td> 0.6369650</td><td>37.31913</td><td>-0.6191212</td><td>37.25974</td><td> -3.4074483</td><td>31.94934</td><td>blues</td></tr>\n",
       "\t<tr><td>blues.00004.wav</td><td>661794</td><td>0.3085260</td><td>0.08784098</td><td>0.09152871</td><td>0.002303398</td><td>1835.004</td><td> 343399.9</td><td>1748.172</td><td> 88445.21</td><td>⋯</td><td>86.09924</td><td>-5.4540339</td><td>75.26971</td><td>-0.9168741</td><td>53.61392</td><td>-4.4048271</td><td>62.91081</td><td>-11.7032337</td><td>55.19516</td><td>blues</td></tr>\n",
       "\t<tr><td>blues.00005.wav</td><td>661794</td><td>0.3024563</td><td>0.08753238</td><td>0.10349364</td><td>0.003980508</td><td>1831.994</td><td>1030482.4</td><td>1729.653</td><td>201910.51</td><td>⋯</td><td>72.54922</td><td>-1.8382628</td><td>68.70203</td><td>-2.7837999</td><td>42.44745</td><td>-3.0479090</td><td>39.80878</td><td> -8.1099911</td><td>46.31100</td><td>blues</td></tr>\n",
       "</tbody>\n",
       "</table>\n"
      ],
      "text/latex": [
       "A tibble: 6 × 60\n",
       "\\begin{tabular}{lllllllllllllllllllll}\n",
       " filename & length & chroma\\_stft\\_mean & chroma\\_stft\\_var & rms\\_mean & rms\\_var & spectral\\_centroid\\_mean & spectral\\_centroid\\_var & spectral\\_bandwidth\\_mean & spectral\\_bandwidth\\_var & ⋯ & mfcc16\\_var & mfcc17\\_mean & mfcc17\\_var & mfcc18\\_mean & mfcc18\\_var & mfcc19\\_mean & mfcc19\\_var & mfcc20\\_mean & mfcc20\\_var & label\\\\\n",
       " <chr> & <dbl> & <dbl> & <dbl> & <dbl> & <dbl> & <dbl> & <dbl> & <dbl> & <dbl> & ⋯ & <dbl> & <dbl> & <dbl> & <dbl> & <dbl> & <dbl> & <dbl> & <dbl> & <dbl> & <chr>\\\\\n",
       "\\hline\n",
       "\t blues.00000.wav & 661794 & 0.3500881 & 0.08875657 & 0.13022792 & 0.002826696 & 1784.166 &  129774.1 & 2002.449 &  85882.76 & ⋯ & 52.42091 & -1.6902146 & 36.52407 & -0.4089792 & 41.59710 & -2.3035226 & 55.06292 &   1.2212907 & 46.93604 & blues\\\\\n",
       "\t blues.00001.wav & 661794 & 0.3409136 & 0.09498025 & 0.09594781 & 0.002372739 & 1530.177 &  375850.1 & 2039.037 & 213843.76 & ⋯ & 55.35640 & -0.7311246 & 60.31453 &  0.2950729 & 48.12060 & -0.2835180 & 51.10619 &   0.5312165 & 45.78628 & blues\\\\\n",
       "\t blues.00002.wav & 661794 & 0.3636372 & 0.08527520 & 0.17557041 & 0.002745916 & 1552.812 &  156467.6 & 1747.702 &  76254.19 & ⋯ & 40.59877 & -7.7290926 & 47.63943 & -1.8164070 & 52.38214 & -3.4397204 & 46.63966 &  -2.2312584 & 30.57302 & blues\\\\\n",
       "\t blues.00003.wav & 661794 & 0.4047847 & 0.09399904 & 0.14109300 & 0.006346346 & 1070.107 &  184355.9 & 1596.413 & 166441.49 & ⋯ & 44.42775 & -3.3195965 & 50.20667 &  0.6369650 & 37.31913 & -0.6191212 & 37.25974 &  -3.4074483 & 31.94934 & blues\\\\\n",
       "\t blues.00004.wav & 661794 & 0.3085260 & 0.08784098 & 0.09152871 & 0.002303398 & 1835.004 &  343399.9 & 1748.172 &  88445.21 & ⋯ & 86.09924 & -5.4540339 & 75.26971 & -0.9168741 & 53.61392 & -4.4048271 & 62.91081 & -11.7032337 & 55.19516 & blues\\\\\n",
       "\t blues.00005.wav & 661794 & 0.3024563 & 0.08753238 & 0.10349364 & 0.003980508 & 1831.994 & 1030482.4 & 1729.653 & 201910.51 & ⋯ & 72.54922 & -1.8382628 & 68.70203 & -2.7837999 & 42.44745 & -3.0479090 & 39.80878 &  -8.1099911 & 46.31100 & blues\\\\\n",
       "\\end{tabular}\n"
      ],
      "text/markdown": [
       "\n",
       "A tibble: 6 × 60\n",
       "\n",
       "| filename &lt;chr&gt; | length &lt;dbl&gt; | chroma_stft_mean &lt;dbl&gt; | chroma_stft_var &lt;dbl&gt; | rms_mean &lt;dbl&gt; | rms_var &lt;dbl&gt; | spectral_centroid_mean &lt;dbl&gt; | spectral_centroid_var &lt;dbl&gt; | spectral_bandwidth_mean &lt;dbl&gt; | spectral_bandwidth_var &lt;dbl&gt; | ⋯ ⋯ | mfcc16_var &lt;dbl&gt; | mfcc17_mean &lt;dbl&gt; | mfcc17_var &lt;dbl&gt; | mfcc18_mean &lt;dbl&gt; | mfcc18_var &lt;dbl&gt; | mfcc19_mean &lt;dbl&gt; | mfcc19_var &lt;dbl&gt; | mfcc20_mean &lt;dbl&gt; | mfcc20_var &lt;dbl&gt; | label &lt;chr&gt; |\n",
       "|---|---|---|---|---|---|---|---|---|---|---|---|---|---|---|---|---|---|---|---|---|\n",
       "| blues.00000.wav | 661794 | 0.3500881 | 0.08875657 | 0.13022792 | 0.002826696 | 1784.166 |  129774.1 | 2002.449 |  85882.76 | ⋯ | 52.42091 | -1.6902146 | 36.52407 | -0.4089792 | 41.59710 | -2.3035226 | 55.06292 |   1.2212907 | 46.93604 | blues |\n",
       "| blues.00001.wav | 661794 | 0.3409136 | 0.09498025 | 0.09594781 | 0.002372739 | 1530.177 |  375850.1 | 2039.037 | 213843.76 | ⋯ | 55.35640 | -0.7311246 | 60.31453 |  0.2950729 | 48.12060 | -0.2835180 | 51.10619 |   0.5312165 | 45.78628 | blues |\n",
       "| blues.00002.wav | 661794 | 0.3636372 | 0.08527520 | 0.17557041 | 0.002745916 | 1552.812 |  156467.6 | 1747.702 |  76254.19 | ⋯ | 40.59877 | -7.7290926 | 47.63943 | -1.8164070 | 52.38214 | -3.4397204 | 46.63966 |  -2.2312584 | 30.57302 | blues |\n",
       "| blues.00003.wav | 661794 | 0.4047847 | 0.09399904 | 0.14109300 | 0.006346346 | 1070.107 |  184355.9 | 1596.413 | 166441.49 | ⋯ | 44.42775 | -3.3195965 | 50.20667 |  0.6369650 | 37.31913 | -0.6191212 | 37.25974 |  -3.4074483 | 31.94934 | blues |\n",
       "| blues.00004.wav | 661794 | 0.3085260 | 0.08784098 | 0.09152871 | 0.002303398 | 1835.004 |  343399.9 | 1748.172 |  88445.21 | ⋯ | 86.09924 | -5.4540339 | 75.26971 | -0.9168741 | 53.61392 | -4.4048271 | 62.91081 | -11.7032337 | 55.19516 | blues |\n",
       "| blues.00005.wav | 661794 | 0.3024563 | 0.08753238 | 0.10349364 | 0.003980508 | 1831.994 | 1030482.4 | 1729.653 | 201910.51 | ⋯ | 72.54922 | -1.8382628 | 68.70203 | -2.7837999 | 42.44745 | -3.0479090 | 39.80878 |  -8.1099911 | 46.31100 | blues |\n",
       "\n"
      ],
      "text/plain": [
       "  filename        length chroma_stft_mean chroma_stft_var rms_mean  \n",
       "1 blues.00000.wav 661794 0.3500881        0.08875657      0.13022792\n",
       "2 blues.00001.wav 661794 0.3409136        0.09498025      0.09594781\n",
       "3 blues.00002.wav 661794 0.3636372        0.08527520      0.17557041\n",
       "4 blues.00003.wav 661794 0.4047847        0.09399904      0.14109300\n",
       "5 blues.00004.wav 661794 0.3085260        0.08784098      0.09152871\n",
       "6 blues.00005.wav 661794 0.3024563        0.08753238      0.10349364\n",
       "  rms_var     spectral_centroid_mean spectral_centroid_var\n",
       "1 0.002826696 1784.166                129774.1            \n",
       "2 0.002372739 1530.177                375850.1            \n",
       "3 0.002745916 1552.812                156467.6            \n",
       "4 0.006346346 1070.107                184355.9            \n",
       "5 0.002303398 1835.004                343399.9            \n",
       "6 0.003980508 1831.994               1030482.4            \n",
       "  spectral_bandwidth_mean spectral_bandwidth_var ⋯ mfcc16_var mfcc17_mean\n",
       "1 2002.449                 85882.76              ⋯ 52.42091   -1.6902146 \n",
       "2 2039.037                213843.76              ⋯ 55.35640   -0.7311246 \n",
       "3 1747.702                 76254.19              ⋯ 40.59877   -7.7290926 \n",
       "4 1596.413                166441.49              ⋯ 44.42775   -3.3195965 \n",
       "5 1748.172                 88445.21              ⋯ 86.09924   -5.4540339 \n",
       "6 1729.653                201910.51              ⋯ 72.54922   -1.8382628 \n",
       "  mfcc17_var mfcc18_mean mfcc18_var mfcc19_mean mfcc19_var mfcc20_mean\n",
       "1 36.52407   -0.4089792  41.59710   -2.3035226  55.06292     1.2212907\n",
       "2 60.31453    0.2950729  48.12060   -0.2835180  51.10619     0.5312165\n",
       "3 47.63943   -1.8164070  52.38214   -3.4397204  46.63966    -2.2312584\n",
       "4 50.20667    0.6369650  37.31913   -0.6191212  37.25974    -3.4074483\n",
       "5 75.26971   -0.9168741  53.61392   -4.4048271  62.91081   -11.7032337\n",
       "6 68.70203   -2.7837999  42.44745   -3.0479090  39.80878    -8.1099911\n",
       "  mfcc20_var label\n",
       "1 46.93604   blues\n",
       "2 45.78628   blues\n",
       "3 30.57302   blues\n",
       "4 31.94934   blues\n",
       "5 55.19516   blues\n",
       "6 46.31100   blues"
      ]
     },
     "metadata": {},
     "output_type": "display_data"
    }
   ],
   "source": [
    "music_data <- read_csv(\"features_30_sec.csv\")\n",
    "head(music_data)"
   ]
  },
  {
   "cell_type": "code",
   "execution_count": 21,
   "id": "041d7862-edc3-40b5-b8d8-eb0512fcf287",
   "metadata": {},
   "outputs": [
    {
     "data": {
      "text/html": [
       "<table class=\"dataframe\">\n",
       "<caption>A tibble: 1 × 1</caption>\n",
       "<thead>\n",
       "\t<tr><th scope=col>sum</th></tr>\n",
       "\t<tr><th scope=col>&lt;dbl&gt;</th></tr>\n",
       "</thead>\n",
       "<tbody>\n",
       "\t<tr><td>-0.0926986</td></tr>\n",
       "</tbody>\n",
       "</table>\n"
      ],
      "text/latex": [
       "A tibble: 1 × 1\n",
       "\\begin{tabular}{l}\n",
       " sum\\\\\n",
       " <dbl>\\\\\n",
       "\\hline\n",
       "\t -0.0926986\\\\\n",
       "\\end{tabular}\n"
      ],
      "text/markdown": [
       "\n",
       "A tibble: 1 × 1\n",
       "\n",
       "| sum &lt;dbl&gt; |\n",
       "|---|\n",
       "| -0.0926986 |\n",
       "\n"
      ],
      "text/plain": [
       "  sum       \n",
       "1 -0.0926986"
      ]
     },
     "metadata": {},
     "output_type": "display_data"
    },
    {
     "data": {
      "text/html": [
       "<table class=\"dataframe\">\n",
       "<caption>A tibble: 4 × 59</caption>\n",
       "<thead>\n",
       "\t<tr><th scope=col>label</th><th scope=col>count</th><th scope=col>chroma_stft_mean</th><th scope=col>chroma_stft_var</th><th scope=col>rms_mean</th><th scope=col>rms_var</th><th scope=col>spectral_centroid_mean</th><th scope=col>spectral_centroid_var</th><th scope=col>spectral_bandwidth_mean</th><th scope=col>spectral_bandwidth_var</th><th scope=col>⋯</th><th scope=col>mfcc16_mean</th><th scope=col>mfcc16_var</th><th scope=col>mfcc17_mean</th><th scope=col>mfcc17_var</th><th scope=col>mfcc18_mean</th><th scope=col>mfcc18_var</th><th scope=col>mfcc19_mean</th><th scope=col>mfcc19_var</th><th scope=col>mfcc20_mean</th><th scope=col>mfcc20_var</th></tr>\n",
       "\t<tr><th scope=col>&lt;chr&gt;</th><th scope=col>&lt;int&gt;</th><th scope=col>&lt;dbl&gt;</th><th scope=col>&lt;dbl&gt;</th><th scope=col>&lt;dbl&gt;</th><th scope=col>&lt;dbl&gt;</th><th scope=col>&lt;dbl&gt;</th><th scope=col>&lt;dbl&gt;</th><th scope=col>&lt;dbl&gt;</th><th scope=col>&lt;dbl&gt;</th><th scope=col>⋯</th><th scope=col>&lt;dbl&gt;</th><th scope=col>&lt;dbl&gt;</th><th scope=col>&lt;dbl&gt;</th><th scope=col>&lt;dbl&gt;</th><th scope=col>&lt;dbl&gt;</th><th scope=col>&lt;dbl&gt;</th><th scope=col>&lt;dbl&gt;</th><th scope=col>&lt;dbl&gt;</th><th scope=col>&lt;dbl&gt;</th><th scope=col>&lt;dbl&gt;</th></tr>\n",
       "</thead>\n",
       "<tbody>\n",
       "\t<tr><td>classical</td><td>75</td><td>0.2651851</td><td>0.08506837</td><td>0.04785598</td><td>0.0007934635</td><td>1392.688</td><td>133502.3</td><td>1530.005</td><td> 79271.49</td><td>⋯</td><td> 1.2606485</td><td>77.24471</td><td> 0.05952114</td><td>77.25029</td><td> 0.55616208</td><td>81.91501</td><td>-1.5324562</td><td>95.93516</td><td>-1.3574386</td><td>114.07549</td></tr>\n",
       "\t<tr><td>jazz     </td><td>75</td><td>0.2887632</td><td>0.09022069</td><td>0.08752246</td><td>0.0015375521</td><td>1711.513</td><td>260998.9</td><td>1947.915</td><td>106158.15</td><td>⋯</td><td> 0.6630296</td><td>85.97275</td><td>-1.41176639</td><td>85.35002</td><td>-0.71787167</td><td>88.31595</td><td>-1.0537729</td><td>95.84098</td><td>-1.9173392</td><td>108.05283</td></tr>\n",
       "\t<tr><td>pop      </td><td>75</td><td>0.4000467</td><td>0.08893888</td><td>0.19713133</td><td>0.0074959087</td><td>3095.316</td><td>935355.0</td><td>3008.801</td><td>175839.16</td><td>⋯</td><td>-1.0458814</td><td>74.63859</td><td>-0.47814423</td><td>77.89647</td><td> 0.22058179</td><td>81.32177</td><td> 0.7457283</td><td>83.19417</td><td> 0.2046489</td><td> 84.65399</td></tr>\n",
       "\t<tr><td>rock     </td><td>75</td><td>0.3876597</td><td>0.08439164</td><td>0.12658217</td><td>0.0017573213</td><td>2194.351</td><td>425930.4</td><td>2236.538</td><td>132942.90</td><td>⋯</td><td> 0.9527229</td><td>43.55403</td><td>-6.70909722</td><td>47.11607</td><td> 0.03696864</td><td>48.55023</td><td>-4.0445457</td><td>47.93153</td><td>-1.7149802</td><td> 48.41267</td></tr>\n",
       "</tbody>\n",
       "</table>\n"
      ],
      "text/latex": [
       "A tibble: 4 × 59\n",
       "\\begin{tabular}{lllllllllllllllllllll}\n",
       " label & count & chroma\\_stft\\_mean & chroma\\_stft\\_var & rms\\_mean & rms\\_var & spectral\\_centroid\\_mean & spectral\\_centroid\\_var & spectral\\_bandwidth\\_mean & spectral\\_bandwidth\\_var & ⋯ & mfcc16\\_mean & mfcc16\\_var & mfcc17\\_mean & mfcc17\\_var & mfcc18\\_mean & mfcc18\\_var & mfcc19\\_mean & mfcc19\\_var & mfcc20\\_mean & mfcc20\\_var\\\\\n",
       " <chr> & <int> & <dbl> & <dbl> & <dbl> & <dbl> & <dbl> & <dbl> & <dbl> & <dbl> & ⋯ & <dbl> & <dbl> & <dbl> & <dbl> & <dbl> & <dbl> & <dbl> & <dbl> & <dbl> & <dbl>\\\\\n",
       "\\hline\n",
       "\t classical & 75 & 0.2651851 & 0.08506837 & 0.04785598 & 0.0007934635 & 1392.688 & 133502.3 & 1530.005 &  79271.49 & ⋯ &  1.2606485 & 77.24471 &  0.05952114 & 77.25029 &  0.55616208 & 81.91501 & -1.5324562 & 95.93516 & -1.3574386 & 114.07549\\\\\n",
       "\t jazz      & 75 & 0.2887632 & 0.09022069 & 0.08752246 & 0.0015375521 & 1711.513 & 260998.9 & 1947.915 & 106158.15 & ⋯ &  0.6630296 & 85.97275 & -1.41176639 & 85.35002 & -0.71787167 & 88.31595 & -1.0537729 & 95.84098 & -1.9173392 & 108.05283\\\\\n",
       "\t pop       & 75 & 0.4000467 & 0.08893888 & 0.19713133 & 0.0074959087 & 3095.316 & 935355.0 & 3008.801 & 175839.16 & ⋯ & -1.0458814 & 74.63859 & -0.47814423 & 77.89647 &  0.22058179 & 81.32177 &  0.7457283 & 83.19417 &  0.2046489 &  84.65399\\\\\n",
       "\t rock      & 75 & 0.3876597 & 0.08439164 & 0.12658217 & 0.0017573213 & 2194.351 & 425930.4 & 2236.538 & 132942.90 & ⋯ &  0.9527229 & 43.55403 & -6.70909722 & 47.11607 &  0.03696864 & 48.55023 & -4.0445457 & 47.93153 & -1.7149802 &  48.41267\\\\\n",
       "\\end{tabular}\n"
      ],
      "text/markdown": [
       "\n",
       "A tibble: 4 × 59\n",
       "\n",
       "| label &lt;chr&gt; | count &lt;int&gt; | chroma_stft_mean &lt;dbl&gt; | chroma_stft_var &lt;dbl&gt; | rms_mean &lt;dbl&gt; | rms_var &lt;dbl&gt; | spectral_centroid_mean &lt;dbl&gt; | spectral_centroid_var &lt;dbl&gt; | spectral_bandwidth_mean &lt;dbl&gt; | spectral_bandwidth_var &lt;dbl&gt; | ⋯ ⋯ | mfcc16_mean &lt;dbl&gt; | mfcc16_var &lt;dbl&gt; | mfcc17_mean &lt;dbl&gt; | mfcc17_var &lt;dbl&gt; | mfcc18_mean &lt;dbl&gt; | mfcc18_var &lt;dbl&gt; | mfcc19_mean &lt;dbl&gt; | mfcc19_var &lt;dbl&gt; | mfcc20_mean &lt;dbl&gt; | mfcc20_var &lt;dbl&gt; |\n",
       "|---|---|---|---|---|---|---|---|---|---|---|---|---|---|---|---|---|---|---|---|---|\n",
       "| classical | 75 | 0.2651851 | 0.08506837 | 0.04785598 | 0.0007934635 | 1392.688 | 133502.3 | 1530.005 |  79271.49 | ⋯ |  1.2606485 | 77.24471 |  0.05952114 | 77.25029 |  0.55616208 | 81.91501 | -1.5324562 | 95.93516 | -1.3574386 | 114.07549 |\n",
       "| jazz      | 75 | 0.2887632 | 0.09022069 | 0.08752246 | 0.0015375521 | 1711.513 | 260998.9 | 1947.915 | 106158.15 | ⋯ |  0.6630296 | 85.97275 | -1.41176639 | 85.35002 | -0.71787167 | 88.31595 | -1.0537729 | 95.84098 | -1.9173392 | 108.05283 |\n",
       "| pop       | 75 | 0.4000467 | 0.08893888 | 0.19713133 | 0.0074959087 | 3095.316 | 935355.0 | 3008.801 | 175839.16 | ⋯ | -1.0458814 | 74.63859 | -0.47814423 | 77.89647 |  0.22058179 | 81.32177 |  0.7457283 | 83.19417 |  0.2046489 |  84.65399 |\n",
       "| rock      | 75 | 0.3876597 | 0.08439164 | 0.12658217 | 0.0017573213 | 2194.351 | 425930.4 | 2236.538 | 132942.90 | ⋯ |  0.9527229 | 43.55403 | -6.70909722 | 47.11607 |  0.03696864 | 48.55023 | -4.0445457 | 47.93153 | -1.7149802 |  48.41267 |\n",
       "\n"
      ],
      "text/plain": [
       "  label     count chroma_stft_mean chroma_stft_var rms_mean   rms_var     \n",
       "1 classical 75    0.2651851        0.08506837      0.04785598 0.0007934635\n",
       "2 jazz      75    0.2887632        0.09022069      0.08752246 0.0015375521\n",
       "3 pop       75    0.4000467        0.08893888      0.19713133 0.0074959087\n",
       "4 rock      75    0.3876597        0.08439164      0.12658217 0.0017573213\n",
       "  spectral_centroid_mean spectral_centroid_var spectral_bandwidth_mean\n",
       "1 1392.688               133502.3              1530.005               \n",
       "2 1711.513               260998.9              1947.915               \n",
       "3 3095.316               935355.0              3008.801               \n",
       "4 2194.351               425930.4              2236.538               \n",
       "  spectral_bandwidth_var ⋯ mfcc16_mean mfcc16_var mfcc17_mean mfcc17_var\n",
       "1  79271.49              ⋯  1.2606485  77.24471    0.05952114 77.25029  \n",
       "2 106158.15              ⋯  0.6630296  85.97275   -1.41176639 85.35002  \n",
       "3 175839.16              ⋯ -1.0458814  74.63859   -0.47814423 77.89647  \n",
       "4 132942.90              ⋯  0.9527229  43.55403   -6.70909722 47.11607  \n",
       "  mfcc18_mean mfcc18_var mfcc19_mean mfcc19_var mfcc20_mean mfcc20_var\n",
       "1  0.55616208 81.91501   -1.5324562  95.93516   -1.3574386  114.07549 \n",
       "2 -0.71787167 88.31595   -1.0537729  95.84098   -1.9173392  108.05283 \n",
       "3  0.22058179 81.32177    0.7457283  83.19417    0.2046489   84.65399 \n",
       "4  0.03696864 48.55023   -4.0445457  47.93153   -1.7149802   48.41267 "
      ]
     },
     "metadata": {},
     "output_type": "display_data"
    }
   ],
   "source": [
    "music_data <- music_data |> filter(label %in% c(\"jazz\", \"rock\", \"pop\", \"classical\"))\n",
    "\n",
    "split_data <- initial_split(music_data, props = 0.75, strata = label)\n",
    "music_train <- training(split_data)\n",
    "music_test <- testing(split_data)\n",
    "\n",
    "summary <- music_train |> group_by(label) |> summarize(count = n(), across(chroma_stft_mean:mfcc20_var, mean))\n",
    "\n",
    "summary"
   ]
  }
 ],
 "metadata": {
  "kernelspec": {
   "display_name": "R",
   "language": "R",
   "name": "ir"
  },
  "language_info": {
   "codemirror_mode": "r",
   "file_extension": ".r",
   "mimetype": "text/x-r-source",
   "name": "R",
   "pygments_lexer": "r",
   "version": "4.1.3"
  }
 },
 "nbformat": 4,
 "nbformat_minor": 5
}
