{
 "cells": [
  {
   "cell_type": "code",
   "execution_count": 1,
   "id": "af687829-5b88-4a49-84c2-77924d5cb184",
   "metadata": {},
   "outputs": [
    {
     "name": "stderr",
     "output_type": "stream",
     "text": [
      "── \u001b[1mAttaching packages\u001b[22m ────────────────────────────────────── tidymodels 1.0.0 ──\n",
      "\n",
      "\u001b[32m✔\u001b[39m \u001b[34mbroom       \u001b[39m 1.0.0     \u001b[32m✔\u001b[39m \u001b[34mrecipes     \u001b[39m 1.0.1\n",
      "\u001b[32m✔\u001b[39m \u001b[34mdials       \u001b[39m 1.0.0     \u001b[32m✔\u001b[39m \u001b[34mrsample     \u001b[39m 1.0.0\n",
      "\u001b[32m✔\u001b[39m \u001b[34mdplyr       \u001b[39m 1.0.9     \u001b[32m✔\u001b[39m \u001b[34mtibble      \u001b[39m 3.1.7\n",
      "\u001b[32m✔\u001b[39m \u001b[34mggplot2     \u001b[39m 3.3.6     \u001b[32m✔\u001b[39m \u001b[34mtidyr       \u001b[39m 1.2.0\n",
      "\u001b[32m✔\u001b[39m \u001b[34minfer       \u001b[39m 1.0.2     \u001b[32m✔\u001b[39m \u001b[34mtune        \u001b[39m 1.0.0\n",
      "\u001b[32m✔\u001b[39m \u001b[34mmodeldata   \u001b[39m 1.0.0     \u001b[32m✔\u001b[39m \u001b[34mworkflows   \u001b[39m 1.0.0\n",
      "\u001b[32m✔\u001b[39m \u001b[34mparsnip     \u001b[39m 1.0.0     \u001b[32m✔\u001b[39m \u001b[34mworkflowsets\u001b[39m 1.0.0\n",
      "\u001b[32m✔\u001b[39m \u001b[34mpurrr       \u001b[39m 0.3.4     \u001b[32m✔\u001b[39m \u001b[34myardstick   \u001b[39m 1.0.0\n",
      "\n",
      "── \u001b[1mConflicts\u001b[22m ───────────────────────────────────────── tidymodels_conflicts() ──\n",
      "\u001b[31m✖\u001b[39m \u001b[34mpurrr\u001b[39m::\u001b[32mdiscard()\u001b[39m masks \u001b[34mscales\u001b[39m::discard()\n",
      "\u001b[31m✖\u001b[39m \u001b[34mdplyr\u001b[39m::\u001b[32mfilter()\u001b[39m  masks \u001b[34mstats\u001b[39m::filter()\n",
      "\u001b[31m✖\u001b[39m \u001b[34mdplyr\u001b[39m::\u001b[32mlag()\u001b[39m     masks \u001b[34mstats\u001b[39m::lag()\n",
      "\u001b[31m✖\u001b[39m \u001b[34mrecipes\u001b[39m::\u001b[32mstep()\u001b[39m  masks \u001b[34mstats\u001b[39m::step()\n",
      "\u001b[34m•\u001b[39m Dig deeper into tidy modeling with R at \u001b[32mhttps://www.tmwr.org\u001b[39m\n",
      "\n",
      "── \u001b[1mAttaching packages\u001b[22m ─────────────────────────────────────── tidyverse 1.3.1 ──\n",
      "\n",
      "\u001b[32m✔\u001b[39m \u001b[34mreadr  \u001b[39m 2.1.2     \u001b[32m✔\u001b[39m \u001b[34mforcats\u001b[39m 0.5.1\n",
      "\u001b[32m✔\u001b[39m \u001b[34mstringr\u001b[39m 1.4.0     \n",
      "\n",
      "── \u001b[1mConflicts\u001b[22m ────────────────────────────────────────── tidyverse_conflicts() ──\n",
      "\u001b[31m✖\u001b[39m \u001b[34mreadr\u001b[39m::\u001b[32mcol_factor()\u001b[39m masks \u001b[34mscales\u001b[39m::col_factor()\n",
      "\u001b[31m✖\u001b[39m \u001b[34mpurrr\u001b[39m::\u001b[32mdiscard()\u001b[39m    masks \u001b[34mscales\u001b[39m::discard()\n",
      "\u001b[31m✖\u001b[39m \u001b[34mdplyr\u001b[39m::\u001b[32mfilter()\u001b[39m     masks \u001b[34mstats\u001b[39m::filter()\n",
      "\u001b[31m✖\u001b[39m \u001b[34mstringr\u001b[39m::\u001b[32mfixed()\u001b[39m    masks \u001b[34mrecipes\u001b[39m::fixed()\n",
      "\u001b[31m✖\u001b[39m \u001b[34mdplyr\u001b[39m::\u001b[32mlag()\u001b[39m        masks \u001b[34mstats\u001b[39m::lag()\n",
      "\u001b[31m✖\u001b[39m \u001b[34mreadr\u001b[39m::\u001b[32mspec()\u001b[39m       masks \u001b[34myardstick\u001b[39m::spec()\n",
      "\n"
     ]
    }
   ],
   "source": [
    "library(tidymodels)\n",
    "library(tidyverse)\n",
    "set.seed(45)"
   ]
  },
  {
   "cell_type": "code",
   "execution_count": 2,
   "id": "ea7f907b-6350-4c5b-9ef1-4c155cc42d79",
   "metadata": {},
   "outputs": [
    {
     "name": "stderr",
     "output_type": "stream",
     "text": [
      "\u001b[1mRows: \u001b[22m\u001b[34m1000\u001b[39m \u001b[1mColumns: \u001b[22m\u001b[34m60\u001b[39m\n",
      "\u001b[36m──\u001b[39m \u001b[1mColumn specification\u001b[22m \u001b[36m────────────────────────────────────────────────────────\u001b[39m\n",
      "\u001b[1mDelimiter:\u001b[22m \",\"\n",
      "\u001b[31mchr\u001b[39m  (2): filename, label\n",
      "\u001b[32mdbl\u001b[39m (58): length, chroma_stft_mean, chroma_stft_var, rms_mean, rms_var, spec...\n",
      "\n",
      "\u001b[36mℹ\u001b[39m Use `spec()` to retrieve the full column specification for this data.\n",
      "\u001b[36mℹ\u001b[39m Specify the column types or set `show_col_types = FALSE` to quiet this message.\n"
     ]
    },
    {
     "data": {
      "text/html": [
       "<table class=\"dataframe\">\n",
       "<caption>A tibble: 6 × 60</caption>\n",
       "<thead>\n",
       "\t<tr><th scope=col>filename</th><th scope=col>length</th><th scope=col>chroma_stft_mean</th><th scope=col>chroma_stft_var</th><th scope=col>rms_mean</th><th scope=col>rms_var</th><th scope=col>spectral_centroid_mean</th><th scope=col>spectral_centroid_var</th><th scope=col>spectral_bandwidth_mean</th><th scope=col>spectral_bandwidth_var</th><th scope=col>⋯</th><th scope=col>mfcc16_var</th><th scope=col>mfcc17_mean</th><th scope=col>mfcc17_var</th><th scope=col>mfcc18_mean</th><th scope=col>mfcc18_var</th><th scope=col>mfcc19_mean</th><th scope=col>mfcc19_var</th><th scope=col>mfcc20_mean</th><th scope=col>mfcc20_var</th><th scope=col>label</th></tr>\n",
       "\t<tr><th scope=col>&lt;chr&gt;</th><th scope=col>&lt;dbl&gt;</th><th scope=col>&lt;dbl&gt;</th><th scope=col>&lt;dbl&gt;</th><th scope=col>&lt;dbl&gt;</th><th scope=col>&lt;dbl&gt;</th><th scope=col>&lt;dbl&gt;</th><th scope=col>&lt;dbl&gt;</th><th scope=col>&lt;dbl&gt;</th><th scope=col>&lt;dbl&gt;</th><th scope=col>⋯</th><th scope=col>&lt;dbl&gt;</th><th scope=col>&lt;dbl&gt;</th><th scope=col>&lt;dbl&gt;</th><th scope=col>&lt;dbl&gt;</th><th scope=col>&lt;dbl&gt;</th><th scope=col>&lt;dbl&gt;</th><th scope=col>&lt;dbl&gt;</th><th scope=col>&lt;dbl&gt;</th><th scope=col>&lt;dbl&gt;</th><th scope=col>&lt;fct&gt;</th></tr>\n",
       "</thead>\n",
       "<tbody>\n",
       "\t<tr><td>classical.00000.wav</td><td>661794</td><td>0.2523919</td><td>0.08415318</td><td>0.03624489</td><td>0.0002207507</td><td>1505.166</td><td>44457.89</td><td>1559.006</td><td>43682.97</td><td>⋯</td><td> 86.13791</td><td>-0.3207830</td><td>100.82709</td><td> 1.7729851</td><td> 95.44073</td><td> 0.889234</td><td> 97.13333</td><td>-0.8420249</td><td>120.86579</td><td>classical</td></tr>\n",
       "\t<tr><td>classical.00001.wav</td><td>661794</td><td>0.2149950</td><td>0.08500956</td><td>0.03062517</td><td>0.0001609684</td><td>1360.644</td><td>61611.21</td><td>1441.243</td><td>32378.73</td><td>⋯</td><td>158.49814</td><td>-4.2898464</td><td> 75.67643</td><td> 0.5910091</td><td>134.61771</td><td> 2.877631</td><td>153.63055</td><td> 0.3732806</td><td>123.70739</td><td>classical</td></tr>\n",
       "\t<tr><td>classical.00002.wav</td><td>661794</td><td>0.2779581</td><td>0.08375870</td><td>0.04385955</td><td>0.0001926202</td><td>1490.275</td><td>38993.34</td><td>1600.116</td><td>31200.90</td><td>⋯</td><td> 85.15092</td><td>-1.3094325</td><td> 77.17075</td><td> 2.9451773</td><td> 74.20265</td><td>-1.655027</td><td> 59.09608</td><td>-2.8961926</td><td> 53.00043</td><td>classical</td></tr>\n",
       "\t<tr><td>classical.00003.wav</td><td>661794</td><td>0.2342293</td><td>0.08345093</td><td>0.02944208</td><td>0.0003565407</td><td>1526.630</td><td>91344.31</td><td>1499.439</td><td>60196.23</td><td>⋯</td><td>125.19710</td><td> 0.5973887</td><td>111.53961</td><td>-0.5956837</td><td>151.71991</td><td> 2.341259</td><td>133.90228</td><td> 2.6405358</td><td>210.36562</td><td>classical</td></tr>\n",
       "\t<tr><td>classical.00004.wav</td><td>661794</td><td>0.2215738</td><td>0.08499950</td><td>0.04231631</td><td>0.0002093876</td><td>1705.563</td><td>68132.45</td><td>1646.064</td><td>25963.46</td><td>⋯</td><td> 83.13835</td><td>-4.1252985</td><td> 69.47055</td><td>-4.7877712</td><td>131.77634</td><td>-4.774069</td><td>115.44781</td><td>-4.6037269</td><td>217.12201</td><td>classical</td></tr>\n",
       "\t<tr><td>classical.00005.wav</td><td>661794</td><td>0.2685303</td><td>0.08254110</td><td>0.04326224</td><td>0.0005845473</td><td>1431.055</td><td>74049.94</td><td>1558.113</td><td>39297.27</td><td>⋯</td><td> 77.83755</td><td> 3.3587773</td><td> 86.31481</td><td> 4.8134193</td><td> 78.53747</td><td> 1.758111</td><td> 73.02351</td><td>-1.8308470</td><td> 89.70669</td><td>classical</td></tr>\n",
       "</tbody>\n",
       "</table>\n"
      ],
      "text/latex": [
       "A tibble: 6 × 60\n",
       "\\begin{tabular}{lllllllllllllllllllll}\n",
       " filename & length & chroma\\_stft\\_mean & chroma\\_stft\\_var & rms\\_mean & rms\\_var & spectral\\_centroid\\_mean & spectral\\_centroid\\_var & spectral\\_bandwidth\\_mean & spectral\\_bandwidth\\_var & ⋯ & mfcc16\\_var & mfcc17\\_mean & mfcc17\\_var & mfcc18\\_mean & mfcc18\\_var & mfcc19\\_mean & mfcc19\\_var & mfcc20\\_mean & mfcc20\\_var & label\\\\\n",
       " <chr> & <dbl> & <dbl> & <dbl> & <dbl> & <dbl> & <dbl> & <dbl> & <dbl> & <dbl> & ⋯ & <dbl> & <dbl> & <dbl> & <dbl> & <dbl> & <dbl> & <dbl> & <dbl> & <dbl> & <fct>\\\\\n",
       "\\hline\n",
       "\t classical.00000.wav & 661794 & 0.2523919 & 0.08415318 & 0.03624489 & 0.0002207507 & 1505.166 & 44457.89 & 1559.006 & 43682.97 & ⋯ &  86.13791 & -0.3207830 & 100.82709 &  1.7729851 &  95.44073 &  0.889234 &  97.13333 & -0.8420249 & 120.86579 & classical\\\\\n",
       "\t classical.00001.wav & 661794 & 0.2149950 & 0.08500956 & 0.03062517 & 0.0001609684 & 1360.644 & 61611.21 & 1441.243 & 32378.73 & ⋯ & 158.49814 & -4.2898464 &  75.67643 &  0.5910091 & 134.61771 &  2.877631 & 153.63055 &  0.3732806 & 123.70739 & classical\\\\\n",
       "\t classical.00002.wav & 661794 & 0.2779581 & 0.08375870 & 0.04385955 & 0.0001926202 & 1490.275 & 38993.34 & 1600.116 & 31200.90 & ⋯ &  85.15092 & -1.3094325 &  77.17075 &  2.9451773 &  74.20265 & -1.655027 &  59.09608 & -2.8961926 &  53.00043 & classical\\\\\n",
       "\t classical.00003.wav & 661794 & 0.2342293 & 0.08345093 & 0.02944208 & 0.0003565407 & 1526.630 & 91344.31 & 1499.439 & 60196.23 & ⋯ & 125.19710 &  0.5973887 & 111.53961 & -0.5956837 & 151.71991 &  2.341259 & 133.90228 &  2.6405358 & 210.36562 & classical\\\\\n",
       "\t classical.00004.wav & 661794 & 0.2215738 & 0.08499950 & 0.04231631 & 0.0002093876 & 1705.563 & 68132.45 & 1646.064 & 25963.46 & ⋯ &  83.13835 & -4.1252985 &  69.47055 & -4.7877712 & 131.77634 & -4.774069 & 115.44781 & -4.6037269 & 217.12201 & classical\\\\\n",
       "\t classical.00005.wav & 661794 & 0.2685303 & 0.08254110 & 0.04326224 & 0.0005845473 & 1431.055 & 74049.94 & 1558.113 & 39297.27 & ⋯ &  77.83755 &  3.3587773 &  86.31481 &  4.8134193 &  78.53747 &  1.758111 &  73.02351 & -1.8308470 &  89.70669 & classical\\\\\n",
       "\\end{tabular}\n"
      ],
      "text/markdown": [
       "\n",
       "A tibble: 6 × 60\n",
       "\n",
       "| filename &lt;chr&gt; | length &lt;dbl&gt; | chroma_stft_mean &lt;dbl&gt; | chroma_stft_var &lt;dbl&gt; | rms_mean &lt;dbl&gt; | rms_var &lt;dbl&gt; | spectral_centroid_mean &lt;dbl&gt; | spectral_centroid_var &lt;dbl&gt; | spectral_bandwidth_mean &lt;dbl&gt; | spectral_bandwidth_var &lt;dbl&gt; | ⋯ ⋯ | mfcc16_var &lt;dbl&gt; | mfcc17_mean &lt;dbl&gt; | mfcc17_var &lt;dbl&gt; | mfcc18_mean &lt;dbl&gt; | mfcc18_var &lt;dbl&gt; | mfcc19_mean &lt;dbl&gt; | mfcc19_var &lt;dbl&gt; | mfcc20_mean &lt;dbl&gt; | mfcc20_var &lt;dbl&gt; | label &lt;fct&gt; |\n",
       "|---|---|---|---|---|---|---|---|---|---|---|---|---|---|---|---|---|---|---|---|---|\n",
       "| classical.00000.wav | 661794 | 0.2523919 | 0.08415318 | 0.03624489 | 0.0002207507 | 1505.166 | 44457.89 | 1559.006 | 43682.97 | ⋯ |  86.13791 | -0.3207830 | 100.82709 |  1.7729851 |  95.44073 |  0.889234 |  97.13333 | -0.8420249 | 120.86579 | classical |\n",
       "| classical.00001.wav | 661794 | 0.2149950 | 0.08500956 | 0.03062517 | 0.0001609684 | 1360.644 | 61611.21 | 1441.243 | 32378.73 | ⋯ | 158.49814 | -4.2898464 |  75.67643 |  0.5910091 | 134.61771 |  2.877631 | 153.63055 |  0.3732806 | 123.70739 | classical |\n",
       "| classical.00002.wav | 661794 | 0.2779581 | 0.08375870 | 0.04385955 | 0.0001926202 | 1490.275 | 38993.34 | 1600.116 | 31200.90 | ⋯ |  85.15092 | -1.3094325 |  77.17075 |  2.9451773 |  74.20265 | -1.655027 |  59.09608 | -2.8961926 |  53.00043 | classical |\n",
       "| classical.00003.wav | 661794 | 0.2342293 | 0.08345093 | 0.02944208 | 0.0003565407 | 1526.630 | 91344.31 | 1499.439 | 60196.23 | ⋯ | 125.19710 |  0.5973887 | 111.53961 | -0.5956837 | 151.71991 |  2.341259 | 133.90228 |  2.6405358 | 210.36562 | classical |\n",
       "| classical.00004.wav | 661794 | 0.2215738 | 0.08499950 | 0.04231631 | 0.0002093876 | 1705.563 | 68132.45 | 1646.064 | 25963.46 | ⋯ |  83.13835 | -4.1252985 |  69.47055 | -4.7877712 | 131.77634 | -4.774069 | 115.44781 | -4.6037269 | 217.12201 | classical |\n",
       "| classical.00005.wav | 661794 | 0.2685303 | 0.08254110 | 0.04326224 | 0.0005845473 | 1431.055 | 74049.94 | 1558.113 | 39297.27 | ⋯ |  77.83755 |  3.3587773 |  86.31481 |  4.8134193 |  78.53747 |  1.758111 |  73.02351 | -1.8308470 |  89.70669 | classical |\n",
       "\n"
      ],
      "text/plain": [
       "  filename            length chroma_stft_mean chroma_stft_var rms_mean  \n",
       "1 classical.00000.wav 661794 0.2523919        0.08415318      0.03624489\n",
       "2 classical.00001.wav 661794 0.2149950        0.08500956      0.03062517\n",
       "3 classical.00002.wav 661794 0.2779581        0.08375870      0.04385955\n",
       "4 classical.00003.wav 661794 0.2342293        0.08345093      0.02944208\n",
       "5 classical.00004.wav 661794 0.2215738        0.08499950      0.04231631\n",
       "6 classical.00005.wav 661794 0.2685303        0.08254110      0.04326224\n",
       "  rms_var      spectral_centroid_mean spectral_centroid_var\n",
       "1 0.0002207507 1505.166               44457.89             \n",
       "2 0.0001609684 1360.644               61611.21             \n",
       "3 0.0001926202 1490.275               38993.34             \n",
       "4 0.0003565407 1526.630               91344.31             \n",
       "5 0.0002093876 1705.563               68132.45             \n",
       "6 0.0005845473 1431.055               74049.94             \n",
       "  spectral_bandwidth_mean spectral_bandwidth_var ⋯ mfcc16_var mfcc17_mean\n",
       "1 1559.006                43682.97               ⋯  86.13791  -0.3207830 \n",
       "2 1441.243                32378.73               ⋯ 158.49814  -4.2898464 \n",
       "3 1600.116                31200.90               ⋯  85.15092  -1.3094325 \n",
       "4 1499.439                60196.23               ⋯ 125.19710   0.5973887 \n",
       "5 1646.064                25963.46               ⋯  83.13835  -4.1252985 \n",
       "6 1558.113                39297.27               ⋯  77.83755   3.3587773 \n",
       "  mfcc17_var mfcc18_mean mfcc18_var mfcc19_mean mfcc19_var mfcc20_mean\n",
       "1 100.82709   1.7729851   95.44073   0.889234    97.13333  -0.8420249 \n",
       "2  75.67643   0.5910091  134.61771   2.877631   153.63055   0.3732806 \n",
       "3  77.17075   2.9451773   74.20265  -1.655027    59.09608  -2.8961926 \n",
       "4 111.53961  -0.5956837  151.71991   2.341259   133.90228   2.6405358 \n",
       "5  69.47055  -4.7877712  131.77634  -4.774069   115.44781  -4.6037269 \n",
       "6  86.31481   4.8134193   78.53747   1.758111    73.02351  -1.8308470 \n",
       "  mfcc20_var label    \n",
       "1 120.86579  classical\n",
       "2 123.70739  classical\n",
       "3  53.00043  classical\n",
       "4 210.36562  classical\n",
       "5 217.12201  classical\n",
       "6  89.70669  classical"
      ]
     },
     "metadata": {},
     "output_type": "display_data"
    }
   ],
   "source": [
    "music_data <- read_csv(\"features_30_sec.csv\")\n",
    "music_data <- music_data |> mutate(label = as.factor(label)) |> filter(label %in% c(\"classical\", \"jazz\", \"pop\", \"rock\"))\n",
    "music_data |> head()\n"
   ]
  },
  {
   "cell_type": "code",
   "execution_count": 3,
   "id": "befba2a8-fdbe-43d3-9fb3-fb1307a436b4",
   "metadata": {},
   "outputs": [],
   "source": [
    "music_split <- music_data |> initial_split(prop = 0.75, strata = label)\n",
    "music_training <- training(music_split)\n",
    "music_testing <- testing(music_split)\n"
   ]
  },
  {
   "cell_type": "code",
   "execution_count": 13,
   "id": "7ce9b845-3289-4589-a05a-5aa3b440d8f6",
   "metadata": {},
   "outputs": [],
   "source": [
    "vfolds <- vfold_cv(music_training, v = 5, strata = label)\n",
    "kvals <- tibble(neighbors = seq(from = 1, to = 25, by = 1))"
   ]
  },
  {
   "cell_type": "code",
   "execution_count": 14,
   "id": "aa54a20f-f8de-449c-89d6-c078c1e51c4e",
   "metadata": {},
   "outputs": [
    {
     "name": "stderr",
     "output_type": "stream",
     "text": [
      "\u001b[33m!\u001b[39m \u001b[33mFold1: internal:\n",
      "  No observations were detected in `truth` for level(s): 'blues', 'count...\n",
      "  Computation will proceed by ignoring those levels.\u001b[39m\n",
      "\n",
      "\u001b[33m!\u001b[39m \u001b[33mFold2: internal:\n",
      "  No observations were detected in `truth` for level(s): 'blues', 'count...\n",
      "  Computation will proceed by ignoring those levels.\u001b[39m\n",
      "\n",
      "\u001b[33m!\u001b[39m \u001b[33mFold3: internal:\n",
      "  No observations were detected in `truth` for level(s): 'blues', 'count...\n",
      "  Computation will proceed by ignoring those levels.\u001b[39m\n",
      "\n",
      "\u001b[33m!\u001b[39m \u001b[33mFold4: internal:\n",
      "  No observations were detected in `truth` for level(s): 'blues', 'count...\n",
      "  Computation will proceed by ignoring those levels.\u001b[39m\n",
      "\n",
      "\u001b[33m!\u001b[39m \u001b[33mFold5: internal:\n",
      "  No observations were detected in `truth` for level(s): 'blues', 'count...\n",
      "  Computation will proceed by ignoring those levels.\u001b[39m\n",
      "\n"
     ]
    }
   ],
   "source": [
    "music_recipe <- recipe(label ~ rms_mean + spectral_bandwidth_mean + chroma_stft_mean + zero_crossing_rate_mean + rms_var + zero_crossing_rate_var, data = music_training) |> step_center(all_predictors()) |> step_scale(all_predictors())\n",
    "music_model <- nearest_neighbor(weight_func = \"rectangular\", neighbors = tune()) |> set_engine(\"kknn\") |> set_mode(\"classification\")\n",
    "\n",
    "music_workflow <- workflow() |> add_recipe(music_recipe) |> add_model(music_model) |> tune_grid(resamples = vfolds, grid = kvals)\n"
   ]
  },
  {
   "cell_type": "code",
   "execution_count": 17,
   "id": "05c3002c-c027-41a4-b4d3-ea6596068249",
   "metadata": {},
   "outputs": [
    {
     "data": {
      "text/html": [
       "<table class=\"dataframe\">\n",
       "<caption>A tibble: 25 × 7</caption>\n",
       "<thead>\n",
       "\t<tr><th scope=col>neighbors</th><th scope=col>.metric</th><th scope=col>.estimator</th><th scope=col>mean</th><th scope=col>n</th><th scope=col>std_err</th><th scope=col>.config</th></tr>\n",
       "\t<tr><th scope=col>&lt;dbl&gt;</th><th scope=col>&lt;chr&gt;</th><th scope=col>&lt;chr&gt;</th><th scope=col>&lt;dbl&gt;</th><th scope=col>&lt;int&gt;</th><th scope=col>&lt;dbl&gt;</th><th scope=col>&lt;chr&gt;</th></tr>\n",
       "</thead>\n",
       "<tbody>\n",
       "\t<tr><td> 5</td><td>accuracy</td><td>multiclass</td><td>0.8133333</td><td>5</td><td>0.02321398</td><td>Preprocessor1_Model05</td></tr>\n",
       "\t<tr><td>18</td><td>accuracy</td><td>multiclass</td><td>0.8133333</td><td>5</td><td>0.02198484</td><td>Preprocessor1_Model18</td></tr>\n",
       "\t<tr><td>16</td><td>accuracy</td><td>multiclass</td><td>0.8100000</td><td>5</td><td>0.02013841</td><td>Preprocessor1_Model16</td></tr>\n",
       "\t<tr><td>17</td><td>accuracy</td><td>multiclass</td><td>0.8100000</td><td>5</td><td>0.01870829</td><td>Preprocessor1_Model17</td></tr>\n",
       "\t<tr><td> 3</td><td>accuracy</td><td>multiclass</td><td>0.8066667</td><td>5</td><td>0.01632993</td><td>Preprocessor1_Model03</td></tr>\n",
       "\t<tr><td> 4</td><td>accuracy</td><td>multiclass</td><td>0.8000000</td><td>5</td><td>0.02527625</td><td>Preprocessor1_Model04</td></tr>\n",
       "\t<tr><td>19</td><td>accuracy</td><td>multiclass</td><td>0.7966667</td><td>5</td><td>0.01855921</td><td>Preprocessor1_Model19</td></tr>\n",
       "\t<tr><td> 6</td><td>accuracy</td><td>multiclass</td><td>0.7966667</td><td>5</td><td>0.02758824</td><td>Preprocessor1_Model06</td></tr>\n",
       "\t<tr><td>13</td><td>accuracy</td><td>multiclass</td><td>0.7966667</td><td>5</td><td>0.02656230</td><td>Preprocessor1_Model13</td></tr>\n",
       "\t<tr><td>15</td><td>accuracy</td><td>multiclass</td><td>0.7966667</td><td>5</td><td>0.02953341</td><td>Preprocessor1_Model15</td></tr>\n",
       "\t<tr><td>21</td><td>accuracy</td><td>multiclass</td><td>0.7966667</td><td>5</td><td>0.01779513</td><td>Preprocessor1_Model21</td></tr>\n",
       "\t<tr><td>22</td><td>accuracy</td><td>multiclass</td><td>0.7966667</td><td>5</td><td>0.01779513</td><td>Preprocessor1_Model22</td></tr>\n",
       "\t<tr><td> 1</td><td>accuracy</td><td>multiclass</td><td>0.7933333</td><td>5</td><td>0.01354006</td><td>Preprocessor1_Model01</td></tr>\n",
       "\t<tr><td> 2</td><td>accuracy</td><td>multiclass</td><td>0.7933333</td><td>5</td><td>0.01354006</td><td>Preprocessor1_Model02</td></tr>\n",
       "\t<tr><td>14</td><td>accuracy</td><td>multiclass</td><td>0.7933333</td><td>5</td><td>0.02915476</td><td>Preprocessor1_Model14</td></tr>\n",
       "\t<tr><td>20</td><td>accuracy</td><td>multiclass</td><td>0.7933333</td><td>5</td><td>0.01545603</td><td>Preprocessor1_Model20</td></tr>\n",
       "\t<tr><td> 9</td><td>accuracy</td><td>multiclass</td><td>0.7900000</td><td>5</td><td>0.02013841</td><td>Preprocessor1_Model09</td></tr>\n",
       "\t<tr><td>10</td><td>accuracy</td><td>multiclass</td><td>0.7900000</td><td>5</td><td>0.02614065</td><td>Preprocessor1_Model10</td></tr>\n",
       "\t<tr><td>12</td><td>accuracy</td><td>multiclass</td><td>0.7900000</td><td>5</td><td>0.02718251</td><td>Preprocessor1_Model12</td></tr>\n",
       "\t<tr><td> 7</td><td>accuracy</td><td>multiclass</td><td>0.7866667</td><td>5</td><td>0.02953341</td><td>Preprocessor1_Model07</td></tr>\n",
       "\t<tr><td> 8</td><td>accuracy</td><td>multiclass</td><td>0.7866667</td><td>5</td><td>0.02494438</td><td>Preprocessor1_Model08</td></tr>\n",
       "\t<tr><td>11</td><td>accuracy</td><td>multiclass</td><td>0.7833333</td><td>5</td><td>0.02838231</td><td>Preprocessor1_Model11</td></tr>\n",
       "\t<tr><td>23</td><td>accuracy</td><td>multiclass</td><td>0.7800000</td><td>5</td><td>0.02000000</td><td>Preprocessor1_Model23</td></tr>\n",
       "\t<tr><td>24</td><td>accuracy</td><td>multiclass</td><td>0.7800000</td><td>5</td><td>0.01779513</td><td>Preprocessor1_Model24</td></tr>\n",
       "\t<tr><td>25</td><td>accuracy</td><td>multiclass</td><td>0.7700000</td><td>5</td><td>0.02380476</td><td>Preprocessor1_Model25</td></tr>\n",
       "</tbody>\n",
       "</table>\n"
      ],
      "text/latex": [
       "A tibble: 25 × 7\n",
       "\\begin{tabular}{lllllll}\n",
       " neighbors & .metric & .estimator & mean & n & std\\_err & .config\\\\\n",
       " <dbl> & <chr> & <chr> & <dbl> & <int> & <dbl> & <chr>\\\\\n",
       "\\hline\n",
       "\t  5 & accuracy & multiclass & 0.8133333 & 5 & 0.02321398 & Preprocessor1\\_Model05\\\\\n",
       "\t 18 & accuracy & multiclass & 0.8133333 & 5 & 0.02198484 & Preprocessor1\\_Model18\\\\\n",
       "\t 16 & accuracy & multiclass & 0.8100000 & 5 & 0.02013841 & Preprocessor1\\_Model16\\\\\n",
       "\t 17 & accuracy & multiclass & 0.8100000 & 5 & 0.01870829 & Preprocessor1\\_Model17\\\\\n",
       "\t  3 & accuracy & multiclass & 0.8066667 & 5 & 0.01632993 & Preprocessor1\\_Model03\\\\\n",
       "\t  4 & accuracy & multiclass & 0.8000000 & 5 & 0.02527625 & Preprocessor1\\_Model04\\\\\n",
       "\t 19 & accuracy & multiclass & 0.7966667 & 5 & 0.01855921 & Preprocessor1\\_Model19\\\\\n",
       "\t  6 & accuracy & multiclass & 0.7966667 & 5 & 0.02758824 & Preprocessor1\\_Model06\\\\\n",
       "\t 13 & accuracy & multiclass & 0.7966667 & 5 & 0.02656230 & Preprocessor1\\_Model13\\\\\n",
       "\t 15 & accuracy & multiclass & 0.7966667 & 5 & 0.02953341 & Preprocessor1\\_Model15\\\\\n",
       "\t 21 & accuracy & multiclass & 0.7966667 & 5 & 0.01779513 & Preprocessor1\\_Model21\\\\\n",
       "\t 22 & accuracy & multiclass & 0.7966667 & 5 & 0.01779513 & Preprocessor1\\_Model22\\\\\n",
       "\t  1 & accuracy & multiclass & 0.7933333 & 5 & 0.01354006 & Preprocessor1\\_Model01\\\\\n",
       "\t  2 & accuracy & multiclass & 0.7933333 & 5 & 0.01354006 & Preprocessor1\\_Model02\\\\\n",
       "\t 14 & accuracy & multiclass & 0.7933333 & 5 & 0.02915476 & Preprocessor1\\_Model14\\\\\n",
       "\t 20 & accuracy & multiclass & 0.7933333 & 5 & 0.01545603 & Preprocessor1\\_Model20\\\\\n",
       "\t  9 & accuracy & multiclass & 0.7900000 & 5 & 0.02013841 & Preprocessor1\\_Model09\\\\\n",
       "\t 10 & accuracy & multiclass & 0.7900000 & 5 & 0.02614065 & Preprocessor1\\_Model10\\\\\n",
       "\t 12 & accuracy & multiclass & 0.7900000 & 5 & 0.02718251 & Preprocessor1\\_Model12\\\\\n",
       "\t  7 & accuracy & multiclass & 0.7866667 & 5 & 0.02953341 & Preprocessor1\\_Model07\\\\\n",
       "\t  8 & accuracy & multiclass & 0.7866667 & 5 & 0.02494438 & Preprocessor1\\_Model08\\\\\n",
       "\t 11 & accuracy & multiclass & 0.7833333 & 5 & 0.02838231 & Preprocessor1\\_Model11\\\\\n",
       "\t 23 & accuracy & multiclass & 0.7800000 & 5 & 0.02000000 & Preprocessor1\\_Model23\\\\\n",
       "\t 24 & accuracy & multiclass & 0.7800000 & 5 & 0.01779513 & Preprocessor1\\_Model24\\\\\n",
       "\t 25 & accuracy & multiclass & 0.7700000 & 5 & 0.02380476 & Preprocessor1\\_Model25\\\\\n",
       "\\end{tabular}\n"
      ],
      "text/markdown": [
       "\n",
       "A tibble: 25 × 7\n",
       "\n",
       "| neighbors &lt;dbl&gt; | .metric &lt;chr&gt; | .estimator &lt;chr&gt; | mean &lt;dbl&gt; | n &lt;int&gt; | std_err &lt;dbl&gt; | .config &lt;chr&gt; |\n",
       "|---|---|---|---|---|---|---|\n",
       "|  5 | accuracy | multiclass | 0.8133333 | 5 | 0.02321398 | Preprocessor1_Model05 |\n",
       "| 18 | accuracy | multiclass | 0.8133333 | 5 | 0.02198484 | Preprocessor1_Model18 |\n",
       "| 16 | accuracy | multiclass | 0.8100000 | 5 | 0.02013841 | Preprocessor1_Model16 |\n",
       "| 17 | accuracy | multiclass | 0.8100000 | 5 | 0.01870829 | Preprocessor1_Model17 |\n",
       "|  3 | accuracy | multiclass | 0.8066667 | 5 | 0.01632993 | Preprocessor1_Model03 |\n",
       "|  4 | accuracy | multiclass | 0.8000000 | 5 | 0.02527625 | Preprocessor1_Model04 |\n",
       "| 19 | accuracy | multiclass | 0.7966667 | 5 | 0.01855921 | Preprocessor1_Model19 |\n",
       "|  6 | accuracy | multiclass | 0.7966667 | 5 | 0.02758824 | Preprocessor1_Model06 |\n",
       "| 13 | accuracy | multiclass | 0.7966667 | 5 | 0.02656230 | Preprocessor1_Model13 |\n",
       "| 15 | accuracy | multiclass | 0.7966667 | 5 | 0.02953341 | Preprocessor1_Model15 |\n",
       "| 21 | accuracy | multiclass | 0.7966667 | 5 | 0.01779513 | Preprocessor1_Model21 |\n",
       "| 22 | accuracy | multiclass | 0.7966667 | 5 | 0.01779513 | Preprocessor1_Model22 |\n",
       "|  1 | accuracy | multiclass | 0.7933333 | 5 | 0.01354006 | Preprocessor1_Model01 |\n",
       "|  2 | accuracy | multiclass | 0.7933333 | 5 | 0.01354006 | Preprocessor1_Model02 |\n",
       "| 14 | accuracy | multiclass | 0.7933333 | 5 | 0.02915476 | Preprocessor1_Model14 |\n",
       "| 20 | accuracy | multiclass | 0.7933333 | 5 | 0.01545603 | Preprocessor1_Model20 |\n",
       "|  9 | accuracy | multiclass | 0.7900000 | 5 | 0.02013841 | Preprocessor1_Model09 |\n",
       "| 10 | accuracy | multiclass | 0.7900000 | 5 | 0.02614065 | Preprocessor1_Model10 |\n",
       "| 12 | accuracy | multiclass | 0.7900000 | 5 | 0.02718251 | Preprocessor1_Model12 |\n",
       "|  7 | accuracy | multiclass | 0.7866667 | 5 | 0.02953341 | Preprocessor1_Model07 |\n",
       "|  8 | accuracy | multiclass | 0.7866667 | 5 | 0.02494438 | Preprocessor1_Model08 |\n",
       "| 11 | accuracy | multiclass | 0.7833333 | 5 | 0.02838231 | Preprocessor1_Model11 |\n",
       "| 23 | accuracy | multiclass | 0.7800000 | 5 | 0.02000000 | Preprocessor1_Model23 |\n",
       "| 24 | accuracy | multiclass | 0.7800000 | 5 | 0.01779513 | Preprocessor1_Model24 |\n",
       "| 25 | accuracy | multiclass | 0.7700000 | 5 | 0.02380476 | Preprocessor1_Model25 |\n",
       "\n"
      ],
      "text/plain": [
       "   neighbors .metric  .estimator mean      n std_err    .config              \n",
       "1   5        accuracy multiclass 0.8133333 5 0.02321398 Preprocessor1_Model05\n",
       "2  18        accuracy multiclass 0.8133333 5 0.02198484 Preprocessor1_Model18\n",
       "3  16        accuracy multiclass 0.8100000 5 0.02013841 Preprocessor1_Model16\n",
       "4  17        accuracy multiclass 0.8100000 5 0.01870829 Preprocessor1_Model17\n",
       "5   3        accuracy multiclass 0.8066667 5 0.01632993 Preprocessor1_Model03\n",
       "6   4        accuracy multiclass 0.8000000 5 0.02527625 Preprocessor1_Model04\n",
       "7  19        accuracy multiclass 0.7966667 5 0.01855921 Preprocessor1_Model19\n",
       "8   6        accuracy multiclass 0.7966667 5 0.02758824 Preprocessor1_Model06\n",
       "9  13        accuracy multiclass 0.7966667 5 0.02656230 Preprocessor1_Model13\n",
       "10 15        accuracy multiclass 0.7966667 5 0.02953341 Preprocessor1_Model15\n",
       "11 21        accuracy multiclass 0.7966667 5 0.01779513 Preprocessor1_Model21\n",
       "12 22        accuracy multiclass 0.7966667 5 0.01779513 Preprocessor1_Model22\n",
       "13  1        accuracy multiclass 0.7933333 5 0.01354006 Preprocessor1_Model01\n",
       "14  2        accuracy multiclass 0.7933333 5 0.01354006 Preprocessor1_Model02\n",
       "15 14        accuracy multiclass 0.7933333 5 0.02915476 Preprocessor1_Model14\n",
       "16 20        accuracy multiclass 0.7933333 5 0.01545603 Preprocessor1_Model20\n",
       "17  9        accuracy multiclass 0.7900000 5 0.02013841 Preprocessor1_Model09\n",
       "18 10        accuracy multiclass 0.7900000 5 0.02614065 Preprocessor1_Model10\n",
       "19 12        accuracy multiclass 0.7900000 5 0.02718251 Preprocessor1_Model12\n",
       "20  7        accuracy multiclass 0.7866667 5 0.02953341 Preprocessor1_Model07\n",
       "21  8        accuracy multiclass 0.7866667 5 0.02494438 Preprocessor1_Model08\n",
       "22 11        accuracy multiclass 0.7833333 5 0.02838231 Preprocessor1_Model11\n",
       "23 23        accuracy multiclass 0.7800000 5 0.02000000 Preprocessor1_Model23\n",
       "24 24        accuracy multiclass 0.7800000 5 0.01779513 Preprocessor1_Model24\n",
       "25 25        accuracy multiclass 0.7700000 5 0.02380476 Preprocessor1_Model25"
      ]
     },
     "metadata": {},
     "output_type": "display_data"
    },
    {
     "data": {
      "image/png": "[encoded data removed]",
      "text/plain": [
       "plot without title"
      ]
     },
     "metadata": {
      "image/png": {
       "height": 420,
       "width": 420
      }
     },
     "output_type": "display_data"
    }
   ],
   "source": [
    "kval_metrics <- music_workflow |> collect_metrics() |> filter(.metric == \"accuracy\") |> arrange(desc(mean)) \n",
    "kval_metrics\n",
    "\n",
    "kval_plot <- kval_metrics |> ggplot(aes(x = neighbors, y = mean)) + geom_point() + geom_line() + labs(x = \"K values\", y = \"Accuracy\")\n",
    "kval_plot"
   ]
  },
  {
   "cell_type": "code",
   "execution_count": 18,
   "id": "5e8b975f-3a1c-489d-95b8-caec97fb4f66",
   "metadata": {},
   "outputs": [
    {
     "data": {
      "text/html": [
       "<table class=\"dataframe\">\n",
       "<caption>A tibble: 2 × 3</caption>\n",
       "<thead>\n",
       "\t<tr><th scope=col>.metric</th><th scope=col>.estimator</th><th scope=col>.estimate</th></tr>\n",
       "\t<tr><th scope=col>&lt;chr&gt;</th><th scope=col>&lt;chr&gt;</th><th scope=col>&lt;dbl&gt;</th></tr>\n",
       "</thead>\n",
       "<tbody>\n",
       "\t<tr><td>accuracy</td><td>multiclass</td><td>0.76</td></tr>\n",
       "\t<tr><td>kap     </td><td>multiclass</td><td>0.68</td></tr>\n",
       "</tbody>\n",
       "</table>\n"
      ],
      "text/latex": [
       "A tibble: 2 × 3\n",
       "\\begin{tabular}{lll}\n",
       " .metric & .estimator & .estimate\\\\\n",
       " <chr> & <chr> & <dbl>\\\\\n",
       "\\hline\n",
       "\t accuracy & multiclass & 0.76\\\\\n",
       "\t kap      & multiclass & 0.68\\\\\n",
       "\\end{tabular}\n"
      ],
      "text/markdown": [
       "\n",
       "A tibble: 2 × 3\n",
       "\n",
       "| .metric &lt;chr&gt; | .estimator &lt;chr&gt; | .estimate &lt;dbl&gt; |\n",
       "|---|---|---|\n",
       "| accuracy | multiclass | 0.76 |\n",
       "| kap      | multiclass | 0.68 |\n",
       "\n"
      ],
      "text/plain": [
       "  .metric  .estimator .estimate\n",
       "1 accuracy multiclass 0.76     \n",
       "2 kap      multiclass 0.68     "
      ]
     },
     "metadata": {},
     "output_type": "display_data"
    }
   ],
   "source": [
    "tuned_model <- nearest_neighbor(weight_func = \"rectangular\", neighbors = 5) |> set_engine(\"kknn\") |> set_mode(\"classification\")\n",
    "\n",
    "tuned_workflow <- workflow() |> add_recipe(music_recipe) |> add_model(tuned_model) |> fit(data = music_training)\n",
    "\n",
    "music_predictions <- tuned_workflow |> predict(music_testing) |> bind_cols(music_testing) \n",
    "music_metrics <- music_predictions |> metrics(truth = label, estimate = .pred_class)\n",
    "music_metrics\n"
   ]
  }
 ],
 "metadata": {
  "kernelspec": {
   "display_name": "R",
   "language": "R",
   "name": "ir"
  },
  "language_info": {
   "codemirror_mode": "r",
   "file_extension": ".r",
   "mimetype": "text/x-r-source",
   "name": "R",
   "pygments_lexer": "r",
   "version": "4.1.3"
  }
 },
 "nbformat": 4,
 "nbformat_minor": 5
}
