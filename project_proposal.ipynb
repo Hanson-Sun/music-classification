{
 "cells": [
  {
   "cell_type": "markdown",
   "id": "2b70928a-7178-4285-899d-3c46c32e63fa",
   "metadata": {},
   "source": [
    "# Spectral Sounds: Unveiling Music Genre Classification Through Audio Spectrograms"
   ]
  },
  {
   "cell_type": "markdown",
   "id": "60089440-9db3-41c9-a1e6-48aa94f61532",
   "metadata": {},
   "source": [
    "# Introduction:\n",
    "With the dominance of digital music streaming, music genre classification is an increasingly important way to develop algorithms for suggesting new songs to users. Without a way to analyze the abstract aspects of each song such as mood and tone, these algorithms must be able to make accurate predictions based only on the quantitative characteristics of the audio itself.\n",
    "\n",
    "Hence, we aim to answer the following research question:\n",
    " **Can we predict the genre of a song based on its audio spectrograph information?** In particular, we will focus on the **classical, jazz, pop, and rock music** genres.\n",
    "\n",
    "### Dataset\n",
    "We will be using the Music Genre Classification dataset by Andrada on Kaggle. It includes observations for 1000 30-second audio snippets (.wav ), with 60 relevant variables that describe mean and variance values of different aspects of its audio spectrogram (visual waveform) and the corresponding genre of music.\n"
   ]
  },
  {
   "cell_type": "markdown",
   "id": "197fbfda-03a4-477f-bbcd-6fa79a7ce922",
   "metadata": {},
   "source": [
    "## Preliminary Data Analysis"
   ]
  },
  {
   "cell_type": "code",
   "execution_count": 1,
   "id": "82974ac4-de20-4230-a48c-a9fd233e9c2e",
   "metadata": {},
   "outputs": [
    {
     "name": "stderr",
     "output_type": "stream",
     "text": [
      "── \u001b[1mAttaching packages\u001b[22m ─────────────────────────────────────── tidyverse 1.3.1 ──\n",
      "\n",
      "\u001b[32m✔\u001b[39m \u001b[34mggplot2\u001b[39m 3.3.6     \u001b[32m✔\u001b[39m \u001b[34mpurrr  \u001b[39m 0.3.4\n",
      "\u001b[32m✔\u001b[39m \u001b[34mtibble \u001b[39m 3.1.7     \u001b[32m✔\u001b[39m \u001b[34mdplyr  \u001b[39m 1.0.9\n",
      "\u001b[32m✔\u001b[39m \u001b[34mtidyr  \u001b[39m 1.2.0     \u001b[32m✔\u001b[39m \u001b[34mstringr\u001b[39m 1.4.0\n",
      "\u001b[32m✔\u001b[39m \u001b[34mreadr  \u001b[39m 2.1.2     \u001b[32m✔\u001b[39m \u001b[34mforcats\u001b[39m 0.5.1\n",
      "\n",
      "── \u001b[1mConflicts\u001b[22m ────────────────────────────────────────── tidyverse_conflicts() ──\n",
      "\u001b[31m✖\u001b[39m \u001b[34mdplyr\u001b[39m::\u001b[32mfilter()\u001b[39m masks \u001b[34mstats\u001b[39m::filter()\n",
      "\u001b[31m✖\u001b[39m \u001b[34mdplyr\u001b[39m::\u001b[32mlag()\u001b[39m    masks \u001b[34mstats\u001b[39m::lag()\n",
      "\n",
      "── \u001b[1mAttaching packages\u001b[22m ────────────────────────────────────── tidymodels 1.0.0 ──\n",
      "\n",
      "\u001b[32m✔\u001b[39m \u001b[34mbroom       \u001b[39m 1.0.0     \u001b[32m✔\u001b[39m \u001b[34mrsample     \u001b[39m 1.0.0\n",
      "\u001b[32m✔\u001b[39m \u001b[34mdials       \u001b[39m 1.0.0     \u001b[32m✔\u001b[39m \u001b[34mtune        \u001b[39m 1.0.0\n",
      "\u001b[32m✔\u001b[39m \u001b[34minfer       \u001b[39m 1.0.2     \u001b[32m✔\u001b[39m \u001b[34mworkflows   \u001b[39m 1.0.0\n",
      "\u001b[32m✔\u001b[39m \u001b[34mmodeldata   \u001b[39m 1.0.0     \u001b[32m✔\u001b[39m \u001b[34mworkflowsets\u001b[39m 1.0.0\n",
      "\u001b[32m✔\u001b[39m \u001b[34mparsnip     \u001b[39m 1.0.0     \u001b[32m✔\u001b[39m \u001b[34myardstick   \u001b[39m 1.0.0\n",
      "\u001b[32m✔\u001b[39m \u001b[34mrecipes     \u001b[39m 1.0.1     \n",
      "\n",
      "── \u001b[1mConflicts\u001b[22m ───────────────────────────────────────── tidymodels_conflicts() ──\n",
      "\u001b[31m✖\u001b[39m \u001b[34mscales\u001b[39m::\u001b[32mdiscard()\u001b[39m masks \u001b[34mpurrr\u001b[39m::discard()\n",
      "\u001b[31m✖\u001b[39m \u001b[34mdplyr\u001b[39m::\u001b[32mfilter()\u001b[39m   masks \u001b[34mstats\u001b[39m::filter()\n",
      "\u001b[31m✖\u001b[39m \u001b[34mrecipes\u001b[39m::\u001b[32mfixed()\u001b[39m  masks \u001b[34mstringr\u001b[39m::fixed()\n",
      "\u001b[31m✖\u001b[39m \u001b[34mdplyr\u001b[39m::\u001b[32mlag()\u001b[39m      masks \u001b[34mstats\u001b[39m::lag()\n",
      "\u001b[31m✖\u001b[39m \u001b[34myardstick\u001b[39m::\u001b[32mspec()\u001b[39m masks \u001b[34mreadr\u001b[39m::spec()\n",
      "\u001b[31m✖\u001b[39m \u001b[34mrecipes\u001b[39m::\u001b[32mstep()\u001b[39m   masks \u001b[34mstats\u001b[39m::step()\n",
      "\u001b[34m•\u001b[39m Dig deeper into tidy modeling with R at \u001b[32mhttps://www.tmwr.org\u001b[39m\n",
      "\n"
     ]
    }
   ],
   "source": [
    "# Run this first.\n",
    "library(tidyverse)\n",
    "library(tidymodels)\n",
    "library(RColorBrewer)\n",
    "set.seed(45)\n",
    "\n",
    "DATASET_URL <- \"https://raw.githubusercontent.com/arthu-rguo/dsci-100-proj/master/features_30_sec.csv\"\n",
    "GENRES <- c(\"classical\", \"jazz\", \"pop\", \"rock\")\n",
    "VARIABLES <- c(\"chroma_stft_mean\", \"rms_mean\", \"spectral_centroid_mean\", \"spectral_bandwidth_mean\", \"zero_crossing_rate_mean\")"
   ]
  },
  {
   "cell_type": "code",
   "execution_count": 2,
   "id": "1cd3e2b7-426d-45bc-b0e6-c369b22d0d94",
   "metadata": {},
   "outputs": [
    {
     "name": "stderr",
     "output_type": "stream",
     "text": [
      "\u001b[1mRows: \u001b[22m\u001b[34m1000\u001b[39m \u001b[1mColumns: \u001b[22m\u001b[34m60\u001b[39m\n",
      "\u001b[36m──\u001b[39m \u001b[1mColumn specification\u001b[22m \u001b[36m────────────────────────────────────────────────────────\u001b[39m\n",
      "\u001b[1mDelimiter:\u001b[22m \",\"\n",
      "\u001b[31mchr\u001b[39m  (2): filename, label\n",
      "\u001b[32mdbl\u001b[39m (58): length, chroma_stft_mean, chroma_stft_var, rms_mean, rms_var, spec...\n",
      "\n",
      "\u001b[36mℹ\u001b[39m Use `spec()` to retrieve the full column specification for this data.\n",
      "\u001b[36mℹ\u001b[39m Specify the column types or set `show_col_types = FALSE` to quiet this message.\n"
     ]
    },
    {
     "data": {
      "text/html": [
       "<table class=\"dataframe\">\n",
       "<caption>A tibble: 6 × 6</caption>\n",
       "<thead>\n",
       "\t<tr><th scope=col>label</th><th scope=col>chroma_stft_mean</th><th scope=col>rms_mean</th><th scope=col>spectral_centroid_mean</th><th scope=col>spectral_bandwidth_mean</th><th scope=col>zero_crossing_rate_mean</th></tr>\n",
       "\t<tr><th scope=col>&lt;chr&gt;</th><th scope=col>&lt;dbl&gt;</th><th scope=col>&lt;dbl&gt;</th><th scope=col>&lt;dbl&gt;</th><th scope=col>&lt;dbl&gt;</th><th scope=col>&lt;dbl&gt;</th></tr>\n",
       "</thead>\n",
       "<tbody>\n",
       "\t<tr><td>classical</td><td>0.2523919</td><td>0.03624489</td><td>1505.166</td><td>1559.006</td><td>0.09822270</td></tr>\n",
       "\t<tr><td>classical</td><td>0.2149950</td><td>0.03062517</td><td>1360.644</td><td>1441.243</td><td>0.08776563</td></tr>\n",
       "\t<tr><td>classical</td><td>0.2779581</td><td>0.04385955</td><td>1490.275</td><td>1600.116</td><td>0.09004578</td></tr>\n",
       "\t<tr><td>classical</td><td>0.2342293</td><td>0.02944208</td><td>1526.630</td><td>1499.439</td><td>0.10894638</td></tr>\n",
       "\t<tr><td>classical</td><td>0.2215738</td><td>0.04231631</td><td>1705.563</td><td>1646.064</td><td>0.11285717</td></tr>\n",
       "\t<tr><td>classical</td><td>0.2685303</td><td>0.04326224</td><td>1431.055</td><td>1558.113</td><td>0.07521004</td></tr>\n",
       "</tbody>\n",
       "</table>\n"
      ],
      "text/latex": [
       "A tibble: 6 × 6\n",
       "\\begin{tabular}{llllll}\n",
       " label & chroma\\_stft\\_mean & rms\\_mean & spectral\\_centroid\\_mean & spectral\\_bandwidth\\_mean & zero\\_crossing\\_rate\\_mean\\\\\n",
       " <chr> & <dbl> & <dbl> & <dbl> & <dbl> & <dbl>\\\\\n",
       "\\hline\n",
       "\t classical & 0.2523919 & 0.03624489 & 1505.166 & 1559.006 & 0.09822270\\\\\n",
       "\t classical & 0.2149950 & 0.03062517 & 1360.644 & 1441.243 & 0.08776563\\\\\n",
       "\t classical & 0.2779581 & 0.04385955 & 1490.275 & 1600.116 & 0.09004578\\\\\n",
       "\t classical & 0.2342293 & 0.02944208 & 1526.630 & 1499.439 & 0.10894638\\\\\n",
       "\t classical & 0.2215738 & 0.04231631 & 1705.563 & 1646.064 & 0.11285717\\\\\n",
       "\t classical & 0.2685303 & 0.04326224 & 1431.055 & 1558.113 & 0.07521004\\\\\n",
       "\\end{tabular}\n"
      ],
      "text/markdown": [
       "\n",
       "A tibble: 6 × 6\n",
       "\n",
       "| label &lt;chr&gt; | chroma_stft_mean &lt;dbl&gt; | rms_mean &lt;dbl&gt; | spectral_centroid_mean &lt;dbl&gt; | spectral_bandwidth_mean &lt;dbl&gt; | zero_crossing_rate_mean &lt;dbl&gt; |\n",
       "|---|---|---|---|---|---|\n",
       "| classical | 0.2523919 | 0.03624489 | 1505.166 | 1559.006 | 0.09822270 |\n",
       "| classical | 0.2149950 | 0.03062517 | 1360.644 | 1441.243 | 0.08776563 |\n",
       "| classical | 0.2779581 | 0.04385955 | 1490.275 | 1600.116 | 0.09004578 |\n",
       "| classical | 0.2342293 | 0.02944208 | 1526.630 | 1499.439 | 0.10894638 |\n",
       "| classical | 0.2215738 | 0.04231631 | 1705.563 | 1646.064 | 0.11285717 |\n",
       "| classical | 0.2685303 | 0.04326224 | 1431.055 | 1558.113 | 0.07521004 |\n",
       "\n"
      ],
      "text/plain": [
       "  label     chroma_stft_mean rms_mean   spectral_centroid_mean\n",
       "1 classical 0.2523919        0.03624489 1505.166              \n",
       "2 classical 0.2149950        0.03062517 1360.644              \n",
       "3 classical 0.2779581        0.04385955 1490.275              \n",
       "4 classical 0.2342293        0.02944208 1526.630              \n",
       "5 classical 0.2215738        0.04231631 1705.563              \n",
       "6 classical 0.2685303        0.04326224 1431.055              \n",
       "  spectral_bandwidth_mean zero_crossing_rate_mean\n",
       "1 1559.006                0.09822270             \n",
       "2 1441.243                0.08776563             \n",
       "3 1600.116                0.09004578             \n",
       "4 1499.439                0.10894638             \n",
       "5 1646.064                0.11285717             \n",
       "6 1558.113                0.07521004             "
      ]
     },
     "metadata": {},
     "output_type": "display_data"
    }
   ],
   "source": [
    "# Load and tidy up the dataset.\n",
    "music_data_raw <- read_csv(DATASET_URL)\n",
    "\n",
    "music_data <- music_data_raw |>\n",
    "    select(label, all_of(VARIABLES)) |>\n",
    "    filter(label %in% GENRES) |>\n",
    "    relocate(label)\n",
    "\n",
    "head(music_data)\n",
    "\n",
    "# Split the dataset into training and testing sets.\n",
    "music_split <- music_data |> \n",
    "    initial_split(props = 0.75, strata = label)\n",
    "\n",
    "music_training_data <- training(music_split)\n",
    "music_testing_data <- testing(music_split)"
   ]
  },
  {
   "cell_type": "code",
   "execution_count": 3,
   "id": "d14697a7-40b4-4370-b4ae-96482634622d",
   "metadata": {},
   "outputs": [
    {
     "data": {
      "text/html": [
       "<table class=\"dataframe\">\n",
       "<caption>A tibble: 4 × 7</caption>\n",
       "<thead>\n",
       "\t<tr><th scope=col>label</th><th scope=col>count</th><th scope=col>chroma_stft_mean</th><th scope=col>rms_mean</th><th scope=col>spectral_centroid_mean</th><th scope=col>spectral_bandwidth_mean</th><th scope=col>zero_crossing_rate_mean</th></tr>\n",
       "\t<tr><th scope=col>&lt;chr&gt;</th><th scope=col>&lt;int&gt;</th><th scope=col>&lt;dbl&gt;</th><th scope=col>&lt;dbl&gt;</th><th scope=col>&lt;dbl&gt;</th><th scope=col>&lt;dbl&gt;</th><th scope=col>&lt;dbl&gt;</th></tr>\n",
       "</thead>\n",
       "<tbody>\n",
       "\t<tr><td>classical</td><td>75</td><td>0.2572901</td><td>0.03321557</td><td>1358.547</td><td>1525.335</td><td>0.07583880</td></tr>\n",
       "\t<tr><td>jazz     </td><td>75</td><td>0.2848820</td><td>0.07813579</td><td>1670.233</td><td>1920.377</td><td>0.06482661</td></tr>\n",
       "\t<tr><td>pop      </td><td>75</td><td>0.3945035</td><td>0.20324428</td><td>3126.642</td><td>3045.880</td><td>0.12851842</td></tr>\n",
       "\t<tr><td>rock     </td><td>75</td><td>0.3903474</td><td>0.12693483</td><td>2312.160</td><td>2210.479</td><td>0.11589710</td></tr>\n",
       "</tbody>\n",
       "</table>\n"
      ],
      "text/latex": [
       "A tibble: 4 × 7\n",
       "\\begin{tabular}{lllllll}\n",
       " label & count & chroma\\_stft\\_mean & rms\\_mean & spectral\\_centroid\\_mean & spectral\\_bandwidth\\_mean & zero\\_crossing\\_rate\\_mean\\\\\n",
       " <chr> & <int> & <dbl> & <dbl> & <dbl> & <dbl> & <dbl>\\\\\n",
       "\\hline\n",
       "\t classical & 75 & 0.2572901 & 0.03321557 & 1358.547 & 1525.335 & 0.07583880\\\\\n",
       "\t jazz      & 75 & 0.2848820 & 0.07813579 & 1670.233 & 1920.377 & 0.06482661\\\\\n",
       "\t pop       & 75 & 0.3945035 & 0.20324428 & 3126.642 & 3045.880 & 0.12851842\\\\\n",
       "\t rock      & 75 & 0.3903474 & 0.12693483 & 2312.160 & 2210.479 & 0.11589710\\\\\n",
       "\\end{tabular}\n"
      ],
      "text/markdown": [
       "\n",
       "A tibble: 4 × 7\n",
       "\n",
       "| label &lt;chr&gt; | count &lt;int&gt; | chroma_stft_mean &lt;dbl&gt; | rms_mean &lt;dbl&gt; | spectral_centroid_mean &lt;dbl&gt; | spectral_bandwidth_mean &lt;dbl&gt; | zero_crossing_rate_mean &lt;dbl&gt; |\n",
       "|---|---|---|---|---|---|---|\n",
       "| classical | 75 | 0.2572901 | 0.03321557 | 1358.547 | 1525.335 | 0.07583880 |\n",
       "| jazz      | 75 | 0.2848820 | 0.07813579 | 1670.233 | 1920.377 | 0.06482661 |\n",
       "| pop       | 75 | 0.3945035 | 0.20324428 | 3126.642 | 3045.880 | 0.12851842 |\n",
       "| rock      | 75 | 0.3903474 | 0.12693483 | 2312.160 | 2210.479 | 0.11589710 |\n",
       "\n"
      ],
      "text/plain": [
       "  label     count chroma_stft_mean rms_mean   spectral_centroid_mean\n",
       "1 classical 75    0.2572901        0.03321557 1358.547              \n",
       "2 jazz      75    0.2848820        0.07813579 1670.233              \n",
       "3 pop       75    0.3945035        0.20324428 3126.642              \n",
       "4 rock      75    0.3903474        0.12693483 2312.160              \n",
       "  spectral_bandwidth_mean zero_crossing_rate_mean\n",
       "1 1525.335                0.07583880             \n",
       "2 1920.377                0.06482661             \n",
       "3 3045.880                0.12851842             \n",
       "4 2210.479                0.11589710             "
      ]
     },
     "metadata": {},
     "output_type": "display_data"
    }
   ],
   "source": [
    "# Summarize the training dataset in a table.\n",
    "music_summary <- music_training_data |>\n",
    "    group_by(label) |> \n",
    "    summarize(count = n(), across(everything(), median))\n",
    "\n",
    "music_summary"
   ]
  },
  {
   "cell_type": "code",
   "execution_count": 4,
   "id": "601ff4b6-17bb-4f90-b6f9-22a5f14f62c7",
   "metadata": {},
   "outputs": [
    {
     "data": {
      "image/png": "[encoded data removed]",
      "text/plain": [
       "plot without title"
      ]
     },
     "metadata": {
      "image/png": {
       "height": 420,
       "width": 420
      }
     },
     "output_type": "display_data"
    }
   ],
   "source": [
    "# Visualize the training dataset with a plot.\n",
    "music_summary_labels <- music_summary |>\n",
    "    select(label)\n",
    "\n",
    "music_summary_norms <- music_summary |>\n",
    "    select(all_of(VARIABLES)) |>\n",
    "    mutate(across(everything(), scale)) |>\n",
    "    mutate(across(everything(), abs))\n",
    "\n",
    "music_summary_long <- bind_cols(music_summary_labels, music_summary_norms) |>\n",
    "    pivot_longer(cols = -label, names_to = \"name\", values_to = \"value\")\n",
    "\n",
    "music_visualization <- music_summary_long |>\n",
    "    ggplot(aes(x = name, y = value, fill = name)) +\n",
    "        geom_bar(stat = \"identity\") +\n",
    "        facet_grid(rows = vars(label)) +\n",
    "        labs(x = \"Variable\", y = \"Value (normalized)\") +\n",
    "        theme(legend.pos = \"none\") +\n",
    "        scale_fill_brewer(palette = \"Set1\") +\n",
    "        coord_flip()\n",
    "\n",
    "music_visualization"
   ]
  },
  {
   "cell_type": "markdown",
   "id": "16aca2ae-cc1f-4297-8c21-7b5d522aab5e",
   "metadata": {},
   "source": [
    "## Methods\n",
    "\n",
    "To classify song genre based on audio features, the data will undergo preprocessing, feature extraction, data exploration, data splitting, model training using KNN algorithm, model evaluation, and model optimization. This extracts the relevant features from the audio data to train a KNN model, evaluate its performance, interpret, and report on the ability to classify genre based on audio features.\n",
    "\n",
    "A few useful predictor variables:\n",
    "\n",
    "1. **Chroma feature:** Measures the distribution of musical pitch, and captures tonal content. Helpful in distinguishing genres that have distinct harmonic patterns.\n",
    "\n",
    "2. **RMS (Root Mean Square) values:** Measures the perceived loudness of the signal. Useful in differentiating genres with varying loudness characteristics.\n",
    "\n",
    "3. **Spectral centroid:** easures the average frequency of the signal. Aids in identifying genres that tend to have specific frequency characteristics.\n",
    "\n",
    "4. **Spectral bandwidth:** Measures the average spread of frequencies of the signal. Helps differentiate genres with varying spectral width or frequency spread.\n",
    "\n",
    "5. **Zero crossing rate:** Provides information about the signal's fluctuations. Useful in distinguishing genres with different levels of rhythmic complexity or smoothness.\n",
    "\n",
    "We also intend to perform iterative predictor variable selection, similar to the technique demonstrated in the textbook.\n",
    "\n",
    "### Visualization\n",
    "- **Heatmap:** Visualize the correlation between audio features using a matrix of colors.\n",
    "\n",
    "- **Scatter plot:** Plot the audio features of songs as data points on a graph to identify clusters or patterns.\n",
    "\n",
    "- **Box plot:** Illustrate the distribution of audio features within genres using boxes and whiskers."
   ]
  },
  {
   "cell_type": "markdown",
   "id": "38fc5134-18d7-407b-ba1c-24756178df2e",
   "metadata": {},
   "source": [
    "## Expected Outcomes and Significance\n",
    "\n",
    "### Expected Findings\n",
    "Overall, the project anticipates identifying informative and discriminative features that strongly influence genre classification from the audio spectrograph, enabling a deeper understanding of the distinguishing characteristics of different music genres and providing valuable insights in genre classification based on audio features.\n",
    "\n",
    "### Potential Impacts\n",
    "Overall, the findings can have practical implications in the music industry and related fields, including enhancing music discovery, improving musical analysis, and assisting music production processes. \n",
    "\n",
    "\n",
    "### Future Questions\n",
    "- How does the performance of KNN classification compare to other algorithms for genre classification?\n",
    "\n",
    "- How can genre classification models handle songs that contain elements of multiple genres or blur genre boundaries?"
   ]
  },
  {
   "cell_type": "code",
   "execution_count": null,
   "id": "d68d300c-804e-46ea-ab17-1ad4d4c45951",
   "metadata": {},
   "outputs": [],
   "source": []
  }
 ],
 "metadata": {
  "kernelspec": {
   "display_name": "R",
   "language": "R",
   "name": "ir"
  },
  "language_info": {
   "codemirror_mode": "r",
   "file_extension": ".r",
   "mimetype": "text/x-r-source",
   "name": "R",
   "pygments_lexer": "r",
   "version": "4.1.3"
  }
 },
 "nbformat": 4,
 "nbformat_minor": 5
}
